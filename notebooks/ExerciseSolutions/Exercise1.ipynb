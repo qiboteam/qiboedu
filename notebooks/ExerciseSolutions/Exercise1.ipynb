{
 "cells": [
  {
   "cell_type": "markdown",
   "id": "f4755f26-07d4-41af-9e59-126805038ccd",
   "metadata": {},
   "source": [
    "### Bell's states"
   ]
  },
  {
   "cell_type": "code",
   "execution_count": 1,
   "id": "3b224174-a694-4c1f-a27a-1682cddc9fa4",
   "metadata": {},
   "outputs": [],
   "source": [
    "# !pip install qibo\n",
    "import qibo"
   ]
  },
  {
   "cell_type": "code",
   "execution_count": 2,
   "id": "7efb75fa-42fe-4d50-928e-8f28ab1e32e2",
   "metadata": {},
   "outputs": [],
   "source": [
    "from qibo import Circuit, gates"
   ]
  },
  {
   "cell_type": "code",
   "execution_count": 6,
   "id": "4e11f1bf-661c-43d1-b627-aeabe491d906",
   "metadata": {},
   "outputs": [
    {
     "name": "stdout",
     "output_type": "stream",
     "text": [
      "(0.70711+0j)|00> + (-0.70711+0j)|11>\n"
     ]
    }
   ],
   "source": [
    "# |b2>\n",
    "\n",
    "c = Circuit(2)\n",
    "c.add(gates.H(0))\n",
    "c.add(gates.Z(0))\n",
    "c.add(gates.CNOT(0,1))\n",
    "\n",
    "print(c())"
   ]
  },
  {
   "cell_type": "code",
   "execution_count": 7,
   "id": "b17c69a8-0ee4-4450-8463-2cec7e8d6092",
   "metadata": {},
   "outputs": [
    {
     "name": "stdout",
     "output_type": "stream",
     "text": [
      "(0.70711+0j)|01> + (0.70711+0j)|10>\n"
     ]
    }
   ],
   "source": [
    "# |b3>\n",
    "\n",
    "c = Circuit(2)\n",
    "c.add(gates.H(0))\n",
    "c.add(gates.X(1))\n",
    "c.add(gates.CNOT(0,1))\n",
    "\n",
    "print(c())"
   ]
  },
  {
   "cell_type": "code",
   "execution_count": 8,
   "id": "1454cce5-6470-41d9-a97f-15b61ff20be4",
   "metadata": {},
   "outputs": [
    {
     "name": "stdout",
     "output_type": "stream",
     "text": [
      "(0.70711+0j)|01> + (-0.70711+0j)|10>\n"
     ]
    }
   ],
   "source": [
    "# |b4>\n",
    "\n",
    "c = Circuit(2)\n",
    "c.add(gates.H(0))\n",
    "c.add(gates.X(1))\n",
    "c.add(gates.Z(0))\n",
    "c.add(gates.CNOT(0,1))\n",
    "\n",
    "print(c())"
   ]
  }
 ],
 "metadata": {
  "kernelspec": {
   "display_name": "Python 3 (ipykernel)",
   "language": "python",
   "name": "python3"
  },
  "language_info": {
   "codemirror_mode": {
    "name": "ipython",
    "version": 3
   },
   "file_extension": ".py",
   "mimetype": "text/x-python",
   "name": "python",
   "nbconvert_exporter": "python",
   "pygments_lexer": "ipython3",
   "version": "3.11.8"
  }
 },
 "nbformat": 4,
 "nbformat_minor": 5
}
