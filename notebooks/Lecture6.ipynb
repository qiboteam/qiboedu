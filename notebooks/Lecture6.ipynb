{
 "cells": [
  {
   "cell_type": "markdown",
   "id": "ef4e677f-421d-4cfd-b8de-c9c14213197d",
   "metadata": {},
   "source": [
    "# Lecture 5: simulating quantum noise\n",
    "\n",
    "<center><img src=\"../figures/qibo_mascotte/qibo_noise.png\" alt=\"drawing\" width=\"400\"/></center>\n",
    "<center><strong>Fig. 5:</strong> Qibo the mangoose suffering noise [DALL-E].</center>\n",
    "\n",
    "## Introduction\n",
    "\n",
    "In real life scenarios, quantum computers are imperfect and prone to noise. Some of the noise sources can be:\n",
    "- **decoerence**, which corresponds to the loss of the quantum properties of the system, usually due to some interaction with the external environment;\n",
    "- **thermal noise**, which affects in particular systems sensitive to temperature;\n",
    "- **control errors**, due to some imperfections in the laboratory tools (cables, control boards, etc.);\n",
    "- **cross-talk**, which happens when some operation we apply to a single qubit unintentionally affect the neighbouring qubits;\n",
    "- **quantum state leakage**, which is the possibility to access some undesired energy level. It can happen for example using superconducting qubits, which are in principle N-levels systems prepared to isolate the first two energy levels.\n",
    "\n",
    "More in general, a combination of these phenomena can affect a real quantum device, leading to a simple but relevant problem: the expected results are corrupted. \n",
    "\n",
    "In `qibo`, we can simulate noisy systems and implement some strategies to take this problem into account, cleaning our results from undesired corruptions. \n",
    "\n",
    "In the following:\n",
    "\n",
    "1. we define a simple problem, consisting in calculating the expected value of a target observable over the final state we obtain executing a quantum circuit;\n",
    "2. we compute the exact result with noiseless simulation;\n",
    "3. we add noise to the circuit and compute the noisy result;\n",
    "\n",
    "#### 1. Problem definition\n",
    "\n",
    "We consider as an example a simple quantum system of three qubits, on which we aim to apply some rotations and then compute the expectation value of an observable composed of Pauli's."
   ]
  },
  {
   "cell_type": "code",
   "execution_count": 1,
   "id": "a9ab687c-153c-471f-ac49-10f3c4a1bb07",
   "metadata": {},
   "outputs": [],
   "source": [
    "# if you don't have already qibo, qibojit and qiboedu installed in your computer\n",
    "# uncomment and execute the following lines \n",
    "\n",
    "# !pip install qibo\n",
    "# !pip install qibojit\n",
    "# !pip install git+https://github.com/qiboteam/qiboedu"
   ]
  },
  {
   "cell_type": "code",
   "execution_count": 2,
   "id": "ab1b0468-dfc5-43d2-800c-c3c3480fa130",
   "metadata": {},
   "outputs": [],
   "source": [
    "import numpy as np\n",
    "import matplotlib.pyplot as plt\n",
    "\n",
    "import qibo\n",
    "from qibo import Circuit, gates, hamiltonians\n",
    "\n",
    "from qiboedu.scripts import plotscripts"
   ]
  },
  {
   "cell_type": "code",
   "execution_count": 3,
   "id": "fa0307f5-0cf7-4a8d-b3b1-1f9609b5ba49",
   "metadata": {},
   "outputs": [
    {
     "name": "stderr",
     "output_type": "stream",
     "text": [
      "[Qibo 0.2.6|INFO|2024-04-04 11:46:00]: Using qibojit (numba) backend on /CPU:0\n"
     ]
    }
   ],
   "source": [
    "qibo.set_backend(\"qibojit\")"
   ]
  },
  {
   "cell_type": "code",
   "execution_count": 4,
   "id": "aac5a600-81b1-4c23-aa9a-4f571fd3eb8b",
   "metadata": {},
   "outputs": [
    {
     "data": {
      "text/plain": [
       "MeasurementResult(qubits=(0, 1, 2), nshots=0)"
      ]
     },
     "execution_count": 4,
     "metadata": {},
     "output_type": "execute_result"
    }
   ],
   "source": [
    "nqubits = 3\n",
    "nlayers = 3\n",
    "\n",
    "# activate density matrix mode\n",
    "c = Circuit(nqubits, density_matrix=True)\n",
    "for l in range(nlayers):\n",
    "    for q in range(nqubits):\n",
    "        c.add(gates.RY(q=q, theta=0))\n",
    "        c.add(gates.RZ(q=q, theta=0))\n",
    "    for q in range(0, nqubits-1, 1):\n",
    "        c.add(gates.CNOT(q0=q, q1=q+1))\n",
    "c.add(gates.M(*range(nqubits)))"
   ]
  },
  {
   "cell_type": "code",
   "execution_count": 5,
   "id": "625af8a6-29aa-495d-a991-f8baa872cef3",
   "metadata": {},
   "outputs": [
    {
     "name": "stdout",
     "output_type": "stream",
     "text": [
      "q0: ─RY─RZ─o───RY─RZ─o───RY─RZ─o───M─\n",
      "q1: ─RY─RZ─X─o─RY─RZ─X─o─RY─RZ─X─o─M─\n",
      "q2: ─RY─RZ───X─RY─RZ───X─RY─RZ───X─M─\n"
     ]
    }
   ],
   "source": [
    "print(c.draw())"
   ]
  },
  {
   "cell_type": "markdown",
   "id": "8b3fd7a6-54b0-42a3-b6f5-181ec156d444",
   "metadata": {},
   "source": [
    "Now the circuit is set up and we can fix its action by injecting a specific list of rotational angles. \n",
    "\n",
    "We get the numbers of contained parameters:"
   ]
  },
  {
   "cell_type": "code",
   "execution_count": 6,
   "id": "db3ff9cf-8ce4-4510-8d1c-57b069656a3f",
   "metadata": {},
   "outputs": [],
   "source": [
    "nparams = len(c.get_parameters())"
   ]
  },
  {
   "cell_type": "markdown",
   "id": "30977834-3d7f-4d48-9982-b4ed0aab1800",
   "metadata": {},
   "source": [
    "And then we generate a well defined set of angles."
   ]
  },
  {
   "cell_type": "code",
   "execution_count": 13,
   "id": "09114702-325a-49fe-a2a7-6104cf3e2e78",
   "metadata": {},
   "outputs": [
    {
     "name": "stdout",
     "output_type": "stream",
     "text": [
      "[0.         0.36959914 0.73919827 1.10879741 1.47839654 1.84799568\n",
      " 2.21759481 2.58719395 2.95679309 3.32639222 3.69599136 4.06559049\n",
      " 4.43518963 4.80478876 5.1743879  5.54398704 5.91358617 6.28318531]\n"
     ]
    }
   ],
   "source": [
    "angles = np.linspace(0, 2*np.pi, nparams)\n",
    "print(angles)"
   ]
  },
  {
   "cell_type": "code",
   "execution_count": 14,
   "id": "6cff9fc2-f29d-4c51-bb86-d947a8ceb26c",
   "metadata": {},
   "outputs": [],
   "source": [
    "# set the angles into the circuit\n",
    "c.set_parameters(angles)"
   ]
  },
  {
   "cell_type": "markdown",
   "id": "01679ee7-5cbb-4cfd-abc0-bd0caf48717c",
   "metadata": {},
   "source": [
    "Now we have a quantum circuit composed of rotations and some CNOT gates. We want to use it to compute some calculations. \n",
    "\n",
    "To do this, we can define an observable $\\mathcal{O}$, for which we calculate:\n",
    "\n",
    "$$ \\langle \\mathcal{O} \\rangle \\equiv \\langle 0 | U^{\\dagger}\\, \\mathcal{O}\\, U | 0 \\rangle \\\\. $$\n",
    "\n",
    "We make the choice:\n",
    "\n",
    "$$ \\mathcal{O} = - \\sum_{i=0}^N Z_i \\\\.$$"
   ]
  },
  {
   "cell_type": "code",
   "execution_count": 15,
   "id": "5bdc4699-681d-4db6-830d-8ac6dc7c07c2",
   "metadata": {},
   "outputs": [
    {
     "name": "stdout",
     "output_type": "stream",
     "text": [
      "[[-3.-0.j -0.-0.j -0.-0.j -0.-0.j -0.-0.j -0.-0.j -0.-0.j -0.-0.j]\n",
      " [-0.-0.j -1.-0.j -0.-0.j -0.-0.j -0.-0.j -0.-0.j -0.-0.j -0.-0.j]\n",
      " [-0.-0.j -0.-0.j -1.-0.j -0.-0.j -0.-0.j -0.-0.j -0.-0.j -0.-0.j]\n",
      " [-0.-0.j -0.-0.j -0.-0.j  1.-0.j -0.-0.j -0.-0.j -0.-0.j -0.-0.j]\n",
      " [-0.-0.j -0.-0.j -0.-0.j -0.-0.j -1.-0.j -0.-0.j -0.-0.j -0.-0.j]\n",
      " [-0.-0.j -0.-0.j -0.-0.j -0.-0.j -0.-0.j  1.-0.j -0.-0.j -0.-0.j]\n",
      " [-0.-0.j -0.-0.j -0.-0.j -0.-0.j -0.-0.j -0.-0.j  1.-0.j -0.-0.j]\n",
      " [-0.-0.j -0.-0.j -0.-0.j -0.-0.j -0.-0.j -0.-0.j -0.-0.j  3.-0.j]]\n"
     ]
    }
   ],
   "source": [
    "# observable definition\n",
    "obs = hamiltonians.Z(nqubits=nqubits)\n",
    "print(obs.matrix)"
   ]
  },
  {
   "cell_type": "markdown",
   "id": "ff3fbb55-1ff6-41a1-8b51-1714409a4335",
   "metadata": {},
   "source": [
    "#### 2. Computing the exact expectation value"
   ]
  },
  {
   "cell_type": "code",
   "execution_count": 16,
   "id": "9ae63ead-71b2-442f-a8bb-fc920e0ecf75",
   "metadata": {},
   "outputs": [
    {
     "name": "stdout",
     "output_type": "stream",
     "text": [
      "(0.04098+0j)|000><000| + (0.05215+0.09312j)|000><001| + (-0.00872-0.02801j)|000><010| + (-0.03659-0.10883j)|000><011| + (0.02184-0.00063j)|000><100| + (0.00065+0.0529j)|000><101| + (-0.03929+0.03608j)|000><110| + (-0.00399+0.0879j)|000><111| + (0.05215-0.09312j)|001><000| + (0.27797-0j)|001><001| + (-0.07475-0.01582j)|001><010| + (-0.29388-0.05533j)|001><011| + (0.02635-0.05043j)|001><100| + (0.12105+0.06585j)|001><101| + (0.032+0.1352j)|001><110| + (0.19468+0.12092j)|001><111| + (-0.00872+0.02801j)|010><000| + (-0.07475+0.01582j)|010><001| + (0.021+0j)|010><010| + (0.08218-0.00185j)|010><011| + ...\n"
     ]
    },
    {
     "data": {
      "image/png": "[encoded data removed]",
      "text/plain": [
       "<Figure size 500x375 with 1 Axes>"
      ]
     },
     "metadata": {},
     "output_type": "display_data"
    }
   ],
   "source": [
    "# execute the circuit\n",
    "final_state = c(nshots=2000)\n",
    "\n",
    "# print final state\n",
    "print(final_state)\n",
    "\n",
    "# collect and visualize frequencies\n",
    "frequencies = final_state.frequencies(binary=True)\n",
    "plotscripts.visualize_states(frequencies)"
   ]
  },
  {
   "cell_type": "markdown",
   "id": "c71379d5-6905-4f6e-8289-126180c6645f",
   "metadata": {},
   "source": [
    "Let's have a look also to the density matrix of this system.\n",
    "We can use the function `plotscript.plot_density_matrix(state)`, which takes as argument the state object you get from a circuit execution `circuit().state()`. It is important to set the variable `density_matrix=True` when initializing the circuit.\n",
    "\n",
    "The plot is going to show the absolute value of the amplitudes according to the density matrix 2D notation."
   ]
  },
  {
   "cell_type": "code",
   "execution_count": 19,
   "id": "809076e2-3f3b-46c4-bc93-d9c75878a803",
   "metadata": {},
   "outputs": [
    {
     "data": {
      "image/png": "[encoded data removed]",
      "text/plain": [
       "<Figure size 500x500 with 2 Axes>"
      ]
     },
     "metadata": {},
     "output_type": "display_data"
    }
   ],
   "source": [
    "# plot the density matrix using plotscripts.plot_density_matrix(state)\n",
    "plotscripts.plot_density_matrix(c().state())"
   ]
  },
  {
   "cell_type": "markdown",
   "id": "c518cd9b-841f-4e45-bea7-c3cacc7a681c",
   "metadata": {},
   "source": [
    "As we can see from the plot, we have both diagonal and non diagonal components in the matrix."
   ]
  },
  {
   "cell_type": "markdown",
   "id": "c6e120e6-ab84-4a64-a87d-64887bb8ec4a",
   "metadata": {},
   "source": [
    "The expectation value of this observable, which is diagonal in the computational basis can be computed directly from the frequencies. \n",
    "\n",
    "Executing the system, we collect one frequency for each component of the state vector. We call $f_i$ the frequency corresponding to the $i-$th component of the state vector. \n",
    "\n",
    "Now, considering an observable $\\mathcal{O}$ whose eigenvalues are $\\{o_i\\}_{i=1}^{2^N}$, the expectation value of $\\mathcal{O}$ given the set of frequencies $\\{f_i\\}_{i=1}^{2^N}$ is:\n",
    "\n",
    "$$ E[\\mathcal{O}] = \\frac{1}{2^N} \\sum_{i=1}^{2^N} o_i\\, f_i. $$\n",
    "\n",
    "In `Qibo`, this formula is implemented into a method of the `Hamiltonian` object:\n",
    "`observable.expectation_from_samples(frequencies)`."
   ]
  },
  {
   "cell_type": "code",
   "execution_count": 20,
   "id": "6097032f-9cbe-414c-b085-3b21cb3c2f99",
   "metadata": {},
   "outputs": [
    {
     "name": "stdout",
     "output_type": "stream",
     "text": [
      "0.607\n"
     ]
    }
   ],
   "source": [
    "# compute the expected value\n",
    "exp_value = obs.expectation_from_samples(frequencies)\n",
    "\n",
    "print(exp_value)"
   ]
  },
  {
   "cell_type": "markdown",
   "id": "83c2d0ad-bde8-429c-bc66-1ab44ab069cd",
   "metadata": {},
   "source": [
    "#### 3. Add noise to the system\n",
    "\n",
    "Various different ways to simulate noise exist in `qibo`, but in this lecture we focus on one of them. \n",
    "\n",
    "Let me introduce before the Pauli noise channel, which is used here to corrupt the circuit. If we consider a quantum state represented by the density matrix $\\rho$, the effect of a Pauli noise channel on the state is\n",
    "\n",
    "$$ \\mathcal{E}(\\rho) = \\biggl(1 - \\sum_{k=0}p_k\\biggr)\\rho + \\sum_k p_k P_k \\,\\rho\\, P_k \\\\,\n",
    "$$\n",
    "\n",
    "where $P_k$ is the $k$-th Pauli string and $p_k$ is the probability of applying $P_k$. \n",
    "\n",
    "This channel allows to formalize a corruption of the state $\\rho$ in which each Pauli represents some specific error which can occurr: for example, the Pauli X and Z respectively represent a bit-flip error and a phase-flip error in the qubit state.\n",
    "\n",
    "We are going to use the `circuit.with_pauli_noise` method, which consists in applying a Pauli noise channel after every gate of the circuit. "
   ]
  },
  {
   "cell_type": "code",
   "execution_count": 26,
   "id": "0eb34fc9-f49b-4453-9818-c22e2242f98d",
   "metadata": {},
   "outputs": [],
   "source": [
    "# define the Pauli's probabilities for each qubit of the system\n",
    "noise_map = {\n",
    "    0: list(zip([\"X\", \"Z\"], [0.007, 0.008])),\n",
    "    1: list(zip([\"Y\", \"Z\"], [0.01, 0.005])),\n",
    "    2: list(zip([\"X\", \"Z\"], [0.008, 0.007]))\n",
    "}\n",
    "\n",
    "noisy_c = c.with_pauli_noise(noise_map)"
   ]
  },
  {
   "cell_type": "markdown",
   "id": "e346e189-20c9-45a8-a581-789a33c145e1",
   "metadata": {},
   "source": [
    "Let's print the new face of the circuit, with the Pauli noise channel after each gate."
   ]
  },
  {
   "cell_type": "code",
   "execution_count": 27,
   "id": "a71e2c3a-dda1-4620-bde5-a436b5623413",
   "metadata": {},
   "outputs": [
    {
     "name": "stdout",
     "output_type": "stream",
     "text": [
      "q0: ─RY─PN─RZ─PN─o─PN───RY─PN─RZ─PN────o─PN───RY─PN─RZ─PN────o─PN──────M─\n",
      "q1: ─RY─PN─RZ─PN─X─PN─o─PN─RY─PN─RZ─PN─X─PN─o─PN─RY─PN─RZ─PN─X─PN─o─PN─M─\n",
      "q2: ─RY─PN─RZ─PN──────X─PN─RY─PN─RZ─PN──────X─PN─RY─PN─RZ─PN──────X─PN─M─\n"
     ]
    }
   ],
   "source": [
    "print(noisy_c.draw())"
   ]
  },
  {
   "cell_type": "code",
   "execution_count": 28,
   "id": "1a0c12fd-93e6-47ab-8ea7-fea99b7a4fc8",
   "metadata": {},
   "outputs": [],
   "source": [
    "# set the parameters\n",
    "\n",
    "noisy_c.set_parameters(angles)"
   ]
  },
  {
   "cell_type": "code",
   "execution_count": 29,
   "id": "6486540d-98de-4812-82ee-3b0c014baefc",
   "metadata": {},
   "outputs": [
    {
     "data": {
      "image/png": "[encoded data removed]",
      "text/plain": [
       "<Figure size 500x375 with 1 Axes>"
      ]
     },
     "metadata": {},
     "output_type": "display_data"
    }
   ],
   "source": [
    "# execute the circuit\n",
    "noisy_final_state = noisy_c(nshots=2000)\n",
    "\n",
    "# collect and visualize frequencies\n",
    "noisy_frequencies = noisy_final_state.frequencies(binary=True)\n",
    "plotscripts.visualize_states(frequencies, noisy_frequencies)"
   ]
  },
  {
   "cell_type": "code",
   "execution_count": 30,
   "id": "56e3bcf7-4e0b-426f-af45-5f53a12ef15e",
   "metadata": {},
   "outputs": [
    {
     "data": {
      "image/png": "[encoded data removed]",
      "text/plain": [
       "<Figure size 500x500 with 2 Axes>"
      ]
     },
     "metadata": {},
     "output_type": "display_data"
    }
   ],
   "source": [
    "# plot the density matrix using plotscripts.plot_density_matrix(state)\n",
    "plotscripts.plot_density_matrix(noisy_c().state())"
   ]
  },
  {
   "cell_type": "markdown",
   "id": "41eea6cd-af24-40ca-959d-7f69a1247ec8",
   "metadata": {},
   "source": [
    "From the matrix, we can see the off diagonal terms are vanishing."
   ]
  },
  {
   "cell_type": "markdown",
   "id": "4096c8ff-c4d9-4a1e-8467-c4da23bd2d81",
   "metadata": {},
   "source": [
    "As final step of this lecture 4, let's compute the expectation value of $\\mathcal{O}$ over the noisy final state."
   ]
  },
  {
   "cell_type": "code",
   "execution_count": 32,
   "id": "249bd1e0-61c3-43e8-81ac-8420e6b65b59",
   "metadata": {},
   "outputs": [
    {
     "name": "stdout",
     "output_type": "stream",
     "text": [
      "Noiseless expectation value: 0.607\n",
      "Noisy expectation value: 0.3290000000000001\n"
     ]
    }
   ],
   "source": [
    "noisy_exp = obs.expectation_from_samples(noisy_frequencies)\n",
    "\n",
    "print(f\"Noiseless expectation value: {exp_value}\")\n",
    "print(f\"Noisy expectation value: {noisy_exp}\")"
   ]
  },
  {
   "cell_type": "markdown",
   "id": "7f5a8bcc-fc0d-4314-b346-15c5e036f39e",
   "metadata": {},
   "source": [
    "<div style=\"background-color: rgba(255, 105, 105, 0.3); border: 2.5px solid #000000; padding: 15px;\">\n",
    "    <strong>Exercise:</strong> what is happening to the system? why is the expected value of $Z$ decreasing? What happens if you increase the magnitude of the noise?\n",
    "</div>"
   ]
  }
 ],
 "metadata": {
  "kernelspec": {
   "display_name": "Python 3 (ipykernel)",
   "language": "python",
   "name": "python3"
  },
  "language_info": {
   "codemirror_mode": {
    "name": "ipython",
    "version": 3
   },
   "file_extension": ".py",
   "mimetype": "text/x-python",
   "name": "python",
   "nbconvert_exporter": "python",
   "pygments_lexer": "ipython3",
   "version": "3.10.0"
  }
 },
 "nbformat": 4,
 "nbformat_minor": 5
}
